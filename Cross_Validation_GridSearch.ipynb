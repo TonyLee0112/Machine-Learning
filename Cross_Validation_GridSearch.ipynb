{
 "cells": [
  {
   "cell_type": "markdown",
   "id": "20232d92",
   "metadata": {},
   "source": [
    "# Cross_Validation and GridSearch"
   ]
  },
  {
   "cell_type": "markdown",
   "id": "eb2284a9",
   "metadata": {},
   "source": [
    "Basic Libraries Import"
   ]
  },
  {
   "cell_type": "code",
   "execution_count": 27,
   "id": "44c054b9",
   "metadata": {},
   "outputs": [],
   "source": [
    "import numpy as np\n",
    "import pandas as pd\n",
    "import matplotlib.pyplot as plt"
   ]
  },
  {
   "cell_type": "markdown",
   "id": "249cf15f",
   "metadata": {},
   "source": [
    "Data 불러오기 및 나누기"
   ]
  },
  {
   "cell_type": "code",
   "execution_count": 2,
   "id": "356b5a2f",
   "metadata": {},
   "outputs": [],
   "source": [
    "wine = pd.read_csv('https://bit.ly/wine_csv_data')\n",
    "data = wine[['alcohol','sugar','pH']].to_numpy() # 여러개 할거니까 2차원처럼 입력\n",
    "target = wine['class'].to_numpy()"
   ]
  },
  {
   "cell_type": "markdown",
   "id": "9e1aff34",
   "metadata": {},
   "source": [
    "# 1. Test_set 대신에 Valid_set 을 만들어 test 하기"
   ]
  },
  {
   "cell_type": "code",
   "execution_count": 4,
   "id": "74d35fd2",
   "metadata": {},
   "outputs": [],
   "source": [
    "from sklearn.model_selection import train_test_split\n",
    "train_input, test_input, train_target, test_target = train_test_split(data,target, test_size = 0.2 ,random_state=42)\n",
    "sub_input,val_input, sub_target, val_target = train_test_split(train_input,train_target,test_size = 0.2, random_state=42)"
   ]
  },
  {
   "cell_type": "code",
   "execution_count": 5,
   "id": "d41789f4",
   "metadata": {},
   "outputs": [
    {
     "name": "stdout",
     "output_type": "stream",
     "text": [
      "(4157, 3) (1040, 3)\n"
     ]
    }
   ],
   "source": [
    "print(sub_input.shape, val_input.shape)"
   ]
  },
  {
   "cell_type": "markdown",
   "id": "c568ec67",
   "metadata": {},
   "source": [
    "### DecisionTreeClassifier 객체를 생성하여 sub_set 으로 학습하기"
   ]
  },
  {
   "cell_type": "code",
   "execution_count": 6,
   "id": "19e0422c",
   "metadata": {},
   "outputs": [
    {
     "data": {
      "text/plain": [
       "DecisionTreeClassifier(random_state=42)"
      ]
     },
     "execution_count": 6,
     "metadata": {},
     "output_type": "execute_result"
    }
   ],
   "source": [
    "from sklearn.tree import DecisionTreeClassifier\n",
    "dt = DecisionTreeClassifier(random_state=42)\n",
    "dt.fit(sub_input,sub_target)"
   ]
  },
  {
   "cell_type": "code",
   "execution_count": 7,
   "id": "62adc425",
   "metadata": {},
   "outputs": [
    {
     "name": "stdout",
     "output_type": "stream",
     "text": [
      "Sub_set 의 score : 0.9971133028626413\n",
      "validation_set 의 score : 0.864423076923077\n"
     ]
    }
   ],
   "source": [
    "print(f\"Sub_set 의 score : {dt.score(sub_input,sub_target)}\")\n",
    "print(f\"validation_set 의 score : {dt.score(val_input,val_target)}\")"
   ]
  },
  {
   "cell_type": "markdown",
   "id": "3f00177c",
   "metadata": {},
   "source": [
    "Decision Tree 에 저장된 Parameter Names 를 얻을 수 있음"
   ]
  },
  {
   "cell_type": "code",
   "execution_count": 13,
   "id": "53dc0780",
   "metadata": {},
   "outputs": [
    {
     "name": "stdout",
     "output_type": "stream",
     "text": [
      "dict_keys(['ccp_alpha', 'class_weight', 'criterion', 'max_depth', 'max_features', 'max_leaf_nodes', 'min_impurity_decrease', 'min_samples_leaf', 'min_samples_split', 'min_weight_fraction_leaf', 'random_state', 'splitter'])\n"
     ]
    }
   ],
   "source": [
    "print(DecisionTreeClassifier().get_params().keys())"
   ]
  },
  {
   "cell_type": "markdown",
   "id": "3f60db10",
   "metadata": {},
   "source": [
    "# 2. K - fold cross validation\n",
    "### validation set 을 바꿔가며 Training"
   ]
  },
  {
   "cell_type": "code",
   "execution_count": 8,
   "id": "ff70d9c7",
   "metadata": {},
   "outputs": [],
   "source": [
    "from sklearn.model_selection import cross_validate\n",
    "scores = cross_validate(dt, train_input, train_target)"
   ]
  },
  {
   "cell_type": "code",
   "execution_count": 9,
   "id": "e965f004",
   "metadata": {},
   "outputs": [
    {
     "name": "stdout",
     "output_type": "stream",
     "text": [
      "{'fit_time': array([0.00573134, 0.00501013, 0.00554657, 0.00572395, 0.00469446]), 'score_time': array([0.00099921, 0.00099063, 0.00096393, 0.        , 0.        ]), 'test_score': array([0.86923077, 0.84615385, 0.87680462, 0.84889317, 0.83541867])}\n"
     ]
    }
   ],
   "source": [
    "print(scores) # fit_time, score_time,test_score 반환"
   ]
  },
  {
   "cell_type": "markdown",
   "id": "e1f69542",
   "metadata": {},
   "source": [
    "Cross Validation 결과로 나온 score 들의 평균값"
   ]
  },
  {
   "cell_type": "code",
   "execution_count": 10,
   "id": "7d8cd028",
   "metadata": {},
   "outputs": [
    {
     "name": "stdout",
     "output_type": "stream",
     "text": [
      "0.855300214703487\n"
     ]
    }
   ],
   "source": [
    "print(np.mean(scores['test_score']))"
   ]
  },
  {
   "cell_type": "markdown",
   "id": "e768a379",
   "metadata": {},
   "source": [
    "cross_validate 는 '자동으로' 훈련세트를 섞어 폴드를 나누지 않는다.\n",
    "섞도록 만드려면 cross_validate 의 cv 매개변수 값을 지정해주어야함."
   ]
  },
  {
   "cell_type": "code",
   "execution_count": 11,
   "id": "078fc0bf",
   "metadata": {},
   "outputs": [],
   "source": [
    "from sklearn.model_selection import StratifiedKFold\n",
    "splitter = StratifiedKFold(n_splits=10, shuffle=True, random_state=42)\n",
    "scores = cross_validate(dt, train_input, train_target, cv = splitter)"
   ]
  },
  {
   "cell_type": "code",
   "execution_count": 12,
   "id": "9bc364e6",
   "metadata": {},
   "outputs": [
    {
     "name": "stdout",
     "output_type": "stream",
     "text": [
      "0.8574181117533719\n"
     ]
    }
   ],
   "source": [
    "# 훈련세트를 섞으며 다시 계산한 평균 test_score (Validation set으로 평가)\n",
    "print(np.mean(scores['test_score']))"
   ]
  },
  {
   "cell_type": "markdown",
   "id": "406a64aa",
   "metadata": {},
   "source": [
    "# 3. GridSearchCV : 하이퍼파라미터 자동 탐색 + 교차 검증\n",
    "Hyper_Parameter : 일반적인 parameter 과 달리, 사람이 직접 지정해주는 값"
   ]
  },
  {
   "cell_type": "code",
   "execution_count": 28,
   "id": "42bac2b8",
   "metadata": {},
   "outputs": [
    {
     "data": {
      "text/plain": [
       "GridSearchCV(estimator=DecisionTreeClassifier(random_state=42), n_jobs=-1,\n",
       "             param_grid={'min_impurity_decrease': [0.0001, 0.0002, 0.0003,\n",
       "                                                   0.0004, 0.0005]})"
      ]
     },
     "execution_count": 28,
     "metadata": {},
     "output_type": "execute_result"
    }
   ],
   "source": [
    "from sklearn.model_selection import GridSearchCV\n",
    "params = {'min_impurity_decrease':[0.0001, 0.0002,0.0003,0.0004,0.0005]}\n",
    "gs = GridSearchCV(DecisionTreeClassifier(random_state=42),params, n_jobs=-1)\n",
    "gs.fit(train_input,train_target)"
   ]
  },
  {
   "cell_type": "markdown",
   "id": "a66ec3c3",
   "metadata": {},
   "source": [
    "검증 점수가 가장 높은 모델이 객체 = gs.best_estimator 로 저장되어 있음."
   ]
  },
  {
   "cell_type": "code",
   "execution_count": 15,
   "id": "460e94bd",
   "metadata": {},
   "outputs": [
    {
     "name": "stdout",
     "output_type": "stream",
     "text": [
      "0.9615162593804117\n"
     ]
    }
   ],
   "source": [
    "dt = gs.best_estimator_\n",
    "print(dt.score(train_input,train_target))"
   ]
  },
  {
   "cell_type": "markdown",
   "id": "59eb298f",
   "metadata": {},
   "source": [
    "GridSearchCV 로 찾은 최적의 매개변수 ( params 중에 골랐음)"
   ]
  },
  {
   "cell_type": "code",
   "execution_count": 16,
   "id": "2fa44c39",
   "metadata": {},
   "outputs": [
    {
     "name": "stdout",
     "output_type": "stream",
     "text": [
      "{'min_impurity_decrease': 0.0001}\n"
     ]
    }
   ],
   "source": [
    "print(gs.best_params_)"
   ]
  },
  {
   "cell_type": "markdown",
   "id": "7e789ff5",
   "metadata": {},
   "source": [
    "np.argmax => 가장 값이 큰 element 의 index 반환"
   ]
  },
  {
   "cell_type": "code",
   "execution_count": 29,
   "id": "1ce7e7db",
   "metadata": {},
   "outputs": [
    {
     "name": "stdout",
     "output_type": "stream",
     "text": [
      "{'min_impurity_decrease': 0.0001}\n"
     ]
    }
   ],
   "source": [
    "best_index = np.argmax(gs.cv_results_['mean_test_score'])\n",
    "print(gs.cv_results_['params'][best_index])"
   ]
  },
  {
   "cell_type": "markdown",
   "id": "219269cb",
   "metadata": {},
   "source": [
    "#  순서 정리\n",
    "1. 탐색할 매개변수를 지정한다.\n",
    "2. Train_set 에서 GridSearch 를 수행하여 최상의 mean Validation score 가 나오는 매개변수 조합을 찾는다. 이 조합은 GridSearch 객체에 저장됨.\n",
    "3. GridSearch 는 이제 validation_set 없이 전체 Train_set 을 가지고 최종 model 을 fit 한다. 이 모델도 best_estimator_ 에 저장된다."
   ]
  },
  {
   "cell_type": "markdown",
   "id": "091e8cd6",
   "metadata": {},
   "source": [
    "# 좀 더 복잡한 매개변수 조합을 연습해보자.\n",
    "3개의 매개변수 조합\n",
    "실제 DecisionTreeClassifier 에 있는 매개변수 이름을 정확히 입력해야함."
   ]
  },
  {
   "cell_type": "code",
   "execution_count": 30,
   "id": "0d53ca6d",
   "metadata": {},
   "outputs": [],
   "source": [
    "params = {'min_impurity_decrease' : np.arange(0.0001,0.001,0.0001),\n",
    "          'max_depth' : range(5,20,1),\n",
    "          'min_samples_split' : range(2,100,10)}\n",
    "# 위 매개변수 조합들로 실행할 교차 검증 횟수 : 9 * 15 * 10 = 1350번\n",
    "# 각 조합마다 default K 값인 5회씩 모델을 훈련해서 만들어내므로, 1350 * 5 = 6750 개의 model 생성"
   ]
  },
  {
   "cell_type": "code",
   "execution_count": 20,
   "id": "2d937b75",
   "metadata": {},
   "outputs": [
    {
     "name": "stdout",
     "output_type": "stream",
     "text": [
      "{'max_depth': 14, 'min_impurity_decrease': 0.0004, 'min_samples_split': 12}\n"
     ]
    }
   ],
   "source": [
    "gs = GridSearchCV(DecisionTreeClassifier(random_state=42),params, n_jobs=-1) # n_jobs = -1 : 모든 CPU core 을 사용해 계산하라.\n",
    "gs.fit(train_input, train_target)\n",
    "print(gs.best_params_)"
   ]
  },
  {
   "cell_type": "code",
   "execution_count": 21,
   "id": "ef8ec141",
   "metadata": {},
   "outputs": [
    {
     "name": "stdout",
     "output_type": "stream",
     "text": [
      "0.8683865773302731\n"
     ]
    }
   ],
   "source": [
    "# 최상의 교차 검증 점수 확인\n",
    "print(np.max(gs.cv_results_['mean_test_score']))"
   ]
  },
  {
   "cell_type": "markdown",
   "id": "b72590f0",
   "metadata": {},
   "source": [
    "### GridSearchCV 를 사용하니 매개변수를 일일이 바꿔가며 교차검증을 수행하지 않아도 됨.\n",
    "### 원하는 매개변수 값을 나열하면 알아서 교차 검증 후 최상의 매개변수 값을 찾아줌."
   ]
  },
  {
   "cell_type": "markdown",
   "id": "2fac7f3a",
   "metadata": {},
   "source": [
    "# 4. Random Search"
   ]
  },
  {
   "cell_type": "markdown",
   "id": "1806bc19",
   "metadata": {},
   "source": [
    "매개변수 값의 범위를 미리 정해주기 어려울 때, 매개변수를 Sampling 할 수 있는 확률 분포 객체를 만들어줌."
   ]
  },
  {
   "cell_type": "markdown",
   "id": "fa8fcb0a",
   "metadata": {},
   "source": [
    "### 1. 먼저 Scipy에서 2개의 확률 분포 class 를 import 해보자."
   ]
  },
  {
   "cell_type": "code",
   "execution_count": 33,
   "id": "ea81bed7",
   "metadata": {},
   "outputs": [],
   "source": [
    "from scipy.stats import uniform, randint # uniform = 실수값, randint = 정수값"
   ]
  },
  {
   "cell_type": "code",
   "execution_count": 35,
   "id": "8bce2c76",
   "metadata": {},
   "outputs": [
    {
     "name": "stdout",
     "output_type": "stream",
     "text": [
      "[2 1 4 1 5 1 8 3 7 8]\n",
      "(array([0, 1, 2, 3, 4, 5, 6, 7, 8, 9]), array([112,  90,  83,  83, 103, 135, 107,  99,  94,  94], dtype=int64))\n"
     ]
    },
    {
     "data": {
      "text/plain": [
       "array([0.42738707, 0.77684456, 0.76508564, 0.23110005, 0.5342986 ,\n",
       "       0.00698323, 0.42244189, 0.91420277, 0.93138741, 0.16866807])"
      ]
     },
     "execution_count": 35,
     "metadata": {},
     "output_type": "execute_result"
    }
   ],
   "source": [
    "# method 연습해보기\n",
    "a = randint(0,10)\n",
    "print(a.rvs(10))\n",
    "b = np.unique(a.rvs(1000), return_counts=True)\n",
    "print(b)\n",
    "c = uniform(0,1)\n",
    "c.rvs(10)"
   ]
  },
  {
   "cell_type": "markdown",
   "id": "1512024e",
   "metadata": {},
   "source": [
    "### 2. 이번엔 매개변수 하나를 더 추가하여 4 개의 HyperParameter 에 대한 최적의 조합을 탐색한다."
   ]
  },
  {
   "cell_type": "code",
   "execution_count": 36,
   "id": "ddb656c1",
   "metadata": {},
   "outputs": [],
   "source": [
    "params = {'min_impurity_decrease':uniform(0.0001,0.001),\n",
    "         'max_depth' : randint(20,50),\n",
    "         'min_samples_split' : randint(2,25),\n",
    "         'min_samples_leaf' : randint(1,25) # leaf node 가 되기 위한 최소 Sample 의 개수\n",
    "         }"
   ]
  },
  {
   "cell_type": "markdown",
   "id": "d049b839",
   "metadata": {},
   "source": [
    "난수의 Sampling 횟수는 sklearn 의 RandomizedSearchCV 의 n_iter 매개변수에서 지정한다."
   ]
  },
  {
   "cell_type": "code",
   "execution_count": 44,
   "id": "aa9de179",
   "metadata": {},
   "outputs": [
    {
     "name": "stdout",
     "output_type": "stream",
     "text": [
      "최고의 HyperParameter 값 : {'max_depth': 39, 'min_impurity_decrease': 0.00034102546602601173, 'min_samples_leaf': 7, 'min_samples_split': 13}\n",
      "최고의 Cross_Validation Score : 0.870\n"
     ]
    }
   ],
   "source": [
    "from sklearn.model_selection import RandomizedSearchCV\n",
    "gs = RandomizedSearchCV(DecisionTreeClassifier(random_state=42), params, n_iter = 100, n_jobs = -1,random_state=42)\n",
    "gs.fit(train_input, train_target)\n",
    "print(f\"최고의 HyperParameter 값 : {gs.best_params_}\")\n",
    "print(f\"최고의 Cross_Validation Score : {np.max(gs.cv_results_['mean_test_score']):.3f}\")"
   ]
  },
  {
   "cell_type": "markdown",
   "id": "6e29ff97",
   "metadata": {},
   "source": [
    "### 3. 결정된 최적의 모델 gs.best_estimator_ 을 가지고 최종적으로 Test_set 의 점수를 평가해보자."
   ]
  },
  {
   "cell_type": "code",
   "execution_count": 45,
   "id": "44ce6a1c",
   "metadata": {},
   "outputs": [
    {
     "name": "stdout",
     "output_type": "stream",
     "text": [
      "0.86\n"
     ]
    }
   ],
   "source": [
    "dt = gs.best_estimator_\n",
    "print(dt.score(test_input, test_target))"
   ]
  }
 ],
 "metadata": {
  "kernelspec": {
   "display_name": "Python 3 (ipykernel)",
   "language": "python",
   "name": "python3"
  },
  "language_info": {
   "codemirror_mode": {
    "name": "ipython",
    "version": 3
   },
   "file_extension": ".py",
   "mimetype": "text/x-python",
   "name": "python",
   "nbconvert_exporter": "python",
   "pygments_lexer": "ipython3",
   "version": "3.9.12"
  }
 },
 "nbformat": 4,
 "nbformat_minor": 5
}
